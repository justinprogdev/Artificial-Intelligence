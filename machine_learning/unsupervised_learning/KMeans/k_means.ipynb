{
  "nbformat": 4,
  "nbformat_minor": 0,
  "metadata": {
    "colab": {
      "provenance": []
    },
    "kernelspec": {
      "name": "python3",
      "display_name": "Python 3"
    },
    "language_info": {
      "name": "python"
    }
  },
  "cells": [
    {
      "cell_type": "markdown",
      "source": [
        "# Unsupervised Learning\n",
        "\n",
        "Training on an un-labeled dataset using k-means  \n",
        "\n"
      ],
      "metadata": {
        "id": "zbO60BOpZWNf"
      }
    },
    {
      "cell_type": "code",
      "source": [
        "# import dependencies and data from scikit-learn\n",
        "from sklearn.cluster import KMeans\n",
        "from sklearn.datasets import make_blobs"
      ],
      "metadata": {
        "id": "Mu4w7E1oZpzB"
      },
      "execution_count": 1,
      "outputs": []
    },
    {
      "cell_type": "code",
      "source": [
        "X, _ = make_blobs()  # we make the blobs without the provided cluster IDs.\n",
        "                          # We're predicting the IDs of the clusers here\n",
        "                          # therefore, we'll only be using X going forward, and\n",
        "                          # the second returned variable '_' will be discarded"
      ],
      "metadata": {
        "id": "bvGNX3MDZ5fB"
      },
      "execution_count": 2,
      "outputs": []
    },
    {
      "cell_type": "markdown",
      "source": [
        "#### The X array contains blobs of data without labels\n",
        "You don't have to run this as part of the program, it is merely showing the data structure"
      ],
      "metadata": {
        "id": "1rytPQS3b8p-"
      }
    },
    {
      "cell_type": "code",
      "source": [
        "for byte in X:\n",
        "  print(byte)"
      ],
      "metadata": {
        "colab": {
          "base_uri": "https://localhost:8080/"
        },
        "id": "nlOLehmMaXTj",
        "outputId": "ecf85a64-3d0a-4b25-b693-fd5d61f7989e"
      },
      "execution_count": 3,
      "outputs": [
        {
          "output_type": "stream",
          "name": "stdout",
          "text": [
            "[ 3.91201569 -3.91873064]\n",
            "[-1.13709329  4.93497983]\n",
            "[-1.47837558  4.86317142]\n",
            "[0.25598335 4.77577712]\n",
            "[ 4.1002637  -3.71701076]\n",
            "[-0.01735902  5.40982391]\n",
            "[-1.6589309   4.20280452]\n",
            "[-9.39505783  7.66805183]\n",
            "[ 3.26812555 -2.25599695]\n",
            "[-1.27555455  3.14006956]\n",
            "[-0.84092192  3.19487964]\n",
            "[-2.84631951  6.12453329]\n",
            "[-1.57939332  3.77519081]\n",
            "[-0.78825033  4.26237725]\n",
            "[-8.90798386  9.44720257]\n",
            "[ 2.51733016 -5.50813362]\n",
            "[-10.01655983   8.50592125]\n",
            "[-1.33590021  3.54985288]\n",
            "[ 4.89094678 -3.57977222]\n",
            "[ 3.61823953 -4.20649267]\n",
            "[-11.13094177   9.63907985]\n",
            "[-9.19406144  8.00363587]\n",
            "[-10.53004489   8.42941371]\n",
            "[-2.64803832  5.20155329]\n",
            "[ 3.83727712 -4.02011829]\n",
            "[ 2.10256816 -4.01464562]\n",
            "[ 1.38864064 -3.29639766]\n",
            "[ 3.43902578 -6.25142489]\n",
            "[ 3.61794056 -3.17769789]\n",
            "[-0.41268786  6.08756323]\n",
            "[-10.64334888   7.26804484]\n",
            "[ 5.59061263 -5.05599214]\n",
            "[-1.62363152  3.74413099]\n",
            "[-0.72692524  3.49092899]\n",
            "[ 4.33312932 -4.19325526]\n",
            "[0.52739932 3.82327342]\n",
            "[-1.28549636  4.12569019]\n",
            "[-8.40878874  9.76131487]\n",
            "[ 4.76056019 -5.37221659]\n",
            "[-11.14682075   8.50251138]\n",
            "[-1.38629334  5.0042576 ]\n",
            "[ 2.9952729  -5.56512522]\n",
            "[0.02514147 4.73166722]\n",
            "[-9.37209032  9.43111647]\n",
            "[-6.93992046 10.35755875]\n",
            "[-2.30490063  3.74567724]\n",
            "[-1.72667551  4.05069116]\n",
            "[-1.15642884  5.94279166]\n",
            "[-8.30602759  8.07958276]\n",
            "[ 3.08172881 -4.94106173]\n",
            "[ 3.80025065 -5.47863967]\n",
            "[ 3.36210066 -5.69914785]\n",
            "[-10.9284215    8.07377283]\n",
            "[-0.06129379  4.0652839 ]\n",
            "[-11.12722046   9.61523445]\n",
            "[ 2.26221389 -3.86368373]\n",
            "[ 1.65409238 -4.70917394]\n",
            "[-8.1855703  9.5447103]\n",
            "[ 4.40877424 -4.2566158 ]\n",
            "[-9.29620404  7.89631456]\n",
            "[-10.88905006   7.16409573]\n",
            "[-8.70655031  8.72309874]\n",
            "[-2.76106019  4.72650535]\n",
            "[-9.36793328 10.43525568]\n",
            "[0.45464484 3.42747255]\n",
            "[-2.56516683  3.91800169]\n",
            "[-10.91375237  10.4857062 ]\n",
            "[-1.65863928  4.59137804]\n",
            "[ 3.06146944 -5.41279447]\n",
            "[-11.95679663   8.28595473]\n",
            "[-1.21510618  3.84061648]\n",
            "[ 1.88703918 -5.90994928]\n",
            "[-1.6685528   4.03515235]\n",
            "[-0.82158141  3.47829462]\n",
            "[-10.21516611   9.80537485]\n",
            "[-7.63035534  7.82871252]\n",
            "[ 2.52315457 -5.0784163 ]\n",
            "[ 5.08469492 -4.93221046]\n",
            "[-9.72609413  9.941602  ]\n",
            "[-8.5587867   8.70053834]\n",
            "[-9.64275267 10.00558096]\n",
            "[-9.80780298  8.18002517]\n",
            "[-11.14032537   7.94719439]\n",
            "[ 4.06323908 -5.10262254]\n",
            "[ 5.89051477 -4.64332251]\n",
            "[ 2.65347497 -4.56843349]\n",
            "[-8.04649835  9.49685448]\n",
            "[-9.92451067 10.74474488]\n",
            "[-0.4348694   4.04544273]\n",
            "[ 4.93834202 -3.70664094]\n",
            "[ 3.2053685  -2.29554407]\n",
            "[-1.23537594  4.39718079]\n",
            "[-10.14952085   9.75490959]\n",
            "[ 3.03772066 -4.92171164]\n",
            "[0.38213481 4.68294641]\n",
            "[-8.29139943  7.83885311]\n",
            "[ 3.36077975 -3.91721205]\n",
            "[ 3.96514717 -3.6067321 ]\n",
            "[-0.1915912   3.49451777]\n",
            "[-10.41704662   8.87412492]\n"
          ]
        }
      ]
    },
    {
      "cell_type": "markdown",
      "source": [
        "\n",
        "### K-Means Clustering  \n",
        "We set the number of clusters 'k' to 5 because we anticipate there being 5 centroids in the example data.\n",
        "\n",
        "n_init is the number of times the k-means algorithm is run with different centroid\n",
        "seeds.  \n",
        "\n",
        "random_state set to 42 per the hitchhiker's guide to the universe\n"
      ],
      "metadata": {
        "id": "rR5uoSrCdWZt"
      }
    },
    {
      "cell_type": "code",
      "source": [
        "from numpy.random.mtrand import random\n",
        "k = 5\n",
        "kmeans = KMeans(n_clusters=k, random_state=42, n_init='auto')\n",
        "y_predictions = kmeans.fit_predict(X)"
      ],
      "metadata": {
        "id": "PLLJuwxWdAo3"
      },
      "execution_count": 4,
      "outputs": []
    },
    {
      "cell_type": "markdown",
      "source": [
        "### Predictions\n",
        "Each instance is assigned to one of the 5 clusters.\n",
        "Each instance's label is the index of the cluster to which the algo assigns the instance. (These are the indexes)  \n",
        "Not to be confused as with class labels in classification\n"
      ],
      "metadata": {
        "id": "aZRuJIIYgjuR"
      }
    },
    {
      "cell_type": "code",
      "source": [
        "print(y_predictions)"
      ],
      "metadata": {
        "colab": {
          "base_uri": "https://localhost:8080/"
        },
        "id": "ICXr2ma9fiJs",
        "outputId": "7a29eec1-1fa3-437b-c23e-faae20069572"
      },
      "execution_count": 5,
      "outputs": [
        {
          "output_type": "stream",
          "name": "stdout",
          "text": [
            "[4 2 2 2 4 2 2 1 4 2 2 2 2 2 3 0 3 2 4 4 3 1 3 2 4 4 4 0 4 2 1 0 2 2 4 2 2\n",
            " 3 0 3 2 0 2 3 3 2 2 2 1 0 0 0 3 2 3 4 0 3 4 1 1 1 2 3 2 2 3 2 0 3 2 0 2 2\n",
            " 3 1 0 0 3 1 3 1 3 0 0 0 3 3 2 4 4 2 3 0 2 1 4 4 2 3]\n"
          ]
        }
      ]
    },
    {
      "cell_type": "markdown",
      "source": [
        "The kmeans instance preserves the labels of the instances it was training on."
      ],
      "metadata": {
        "id": "gChZTaV1ikos"
      }
    },
    {
      "cell_type": "code",
      "source": [
        "# demonstrate that these are of kmeans labels\n",
        "y_predictions is kmeans.labels_"
      ],
      "metadata": {
        "colab": {
          "base_uri": "https://localhost:8080/"
        },
        "id": "akg9VIS-hPxR",
        "outputId": "2c97d0d1-0e57-4ba7-bc35-feea40ae3fa4"
      },
      "execution_count": 6,
      "outputs": [
        {
          "output_type": "execute_result",
          "data": {
            "text/plain": [
              "True"
            ]
          },
          "metadata": {},
          "execution_count": 6
        }
      ]
    },
    {
      "cell_type": "markdown",
      "source": [
        "### View the 5 cluster centroids that the algo found\n",
        "As you can see, we have coordinates to 5 centroids"
      ],
      "metadata": {
        "id": "jyQAj-Sshr7h"
      }
    },
    {
      "cell_type": "code",
      "source": [
        "kmeans.cluster_centers_"
      ],
      "metadata": {
        "colab": {
          "base_uri": "https://localhost:8080/"
        },
        "id": "UqCsPiniiYu_",
        "outputId": "d3211608-354e-4a96-b512-c8ac0b3d71ac"
      },
      "execution_count": 7,
      "outputs": [
        {
          "output_type": "execute_result",
          "data": {
            "text/plain": [
              "array([[ 3.49425187, -5.24413978],\n",
              "       [-9.15624042,  7.94099577],\n",
              "       [-1.09403263,  4.3201317 ],\n",
              "       [-9.91794363,  9.41296087],\n",
              "       [ 3.57561079, -3.62665917]])"
            ]
          },
          "metadata": {},
          "execution_count": 7
        }
      ]
    },
    {
      "cell_type": "markdown",
      "source": [
        "### Assign new instances to a cluster\n"
      ],
      "metadata": {
        "id": "H6JggUkgj2w0"
      }
    },
    {
      "cell_type": "code",
      "source": [
        "import numpy as np\n",
        "X_new = np.array([[0,2],[3,2],[-3,3],[-3,2.5]])\n",
        "kmeans.predict(X_new)"
      ],
      "metadata": {
        "colab": {
          "base_uri": "https://localhost:8080/"
        },
        "id": "ST3WhodLj7dx",
        "outputId": "4a67811a-f0cd-4265-a6d9-3229f1f796e2"
      },
      "execution_count": 8,
      "outputs": [
        {
          "output_type": "execute_result",
          "data": {
            "text/plain": [
              "array([2, 2, 2, 2], dtype=int32)"
            ]
          },
          "metadata": {},
          "execution_count": 8
        }
      ]
    },
    {
      "cell_type": "markdown",
      "source": [
        "### Plotting the dataset, centroids, and decision boundaries  \n",
        "As you can see, for each data cluster we assign a centroid, which is the mean location of the cluster. This is denoted by a larger circle.   \n",
        "Between each cluster there is a line and that is the decision boundary.\n",
        "You can see that some datapoints of oblong clusters seem to be mislabeled. This is due to the kmeans algo using the distance to centroid in labeling.  \n",
        "\n"
      ],
      "metadata": {
        "id": "OjBl7claligc"
      }
    },
    {
      "cell_type": "code",
      "source": [
        "import matplotlib.pyplot as plt\n",
        "\n",
        "\n",
        "# Plotting the clusters\n",
        "plt.scatter(X[:, 0], X[:, 1], c=y_predictions, s=50, cmap='viridis')\n",
        "\n",
        "# Plotting the centroids\n",
        "centers = kmeans.cluster_centers_\n",
        "plt.scatter(centers[:, 0], centers[:, 1], c='black', s=200, alpha=0.5)\n",
        "\n",
        "# Create meshgrid\n",
        "x_min, x_max = X[:, 0].min() - 1, X[:, 0].max() + 1\n",
        "y_min, y_max = X[:, 1].min() - 1, X[:, 1].max() + 1\n",
        "xx, yy = np.meshgrid(np.arange(x_min, x_max, 0.1), np.arange(y_min, y_max, 0.1))\n",
        "\n",
        "# Predict cluster for each point in the meshgrid\n",
        "Z = kmeans.predict(np.c_[xx.ravel(), yy.ravel()])\n",
        "Z = Z.reshape(xx.shape)\n",
        "\n",
        "# Plot decision boundaries\n",
        "plt.contourf(xx, yy, Z, alpha=0.2, cmap='viridis')\n",
        "\n",
        "plt.title(\"KMeans Clustering with Decision Boundaries\")\n",
        "plt.show()"
      ],
      "metadata": {
        "colab": {
          "base_uri": "https://localhost:8080/",
          "height": 452
        },
        "id": "kjsxJMG0loTw",
        "outputId": "2aa034bd-8772-4310-d0c2-414ea5326a5b"
      },
      "execution_count": 11,
      "outputs": [
        {
          "output_type": "display_data",
          "data": {
            "text/plain": [
              "<Figure size 640x480 with 1 Axes>"
            ],
            "image/png": "[encoded data removed]"
          },
          "metadata": {}
        }
      ]
    },
    {
      "cell_type": "code",
      "source": [],
      "metadata": {
        "id": "4dU731TdovI4"
      },
      "execution_count": null,
      "outputs": []
    }
  ]
}