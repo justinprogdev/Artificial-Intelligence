{
 "cells": [
  {
   "cell_type": "code",
   "execution_count": 1,
   "id": "35d4b224-6387-4832-bac2-bde50a0e91e0",
   "metadata": {},
   "outputs": [],
   "source": [
    "# Justin McClain\n",
    "# CS 664 Artificical Intelligence\n",
    "# Mod 1 Assignment 1\n",
    "# Mesa starter level simulated agent based economy tutorial\n",
    "# https://mesa.readthedocs.io/en/latest/tutorials/intro_tutorial.html"
   ]
  },
  {
   "cell_type": "code",
   "execution_count": 2,
   "id": "53688369-cb82-4b72-9252-463e2a6c0939",
   "metadata": {},
   "outputs": [],
   "source": [
    "# Import dependencies (Mesa, Matplotlib, jupyter installed locally)\n",
    "\n",
    "import mesa\n",
    "\n",
    "# Data visualization tools.\n",
    "import seaborn as sns\n",
    "\n",
    "# Has multi-dimensional arrays and matrices. Has a large collection of\n",
    "# mathematical functions to operate on these arrays.\n",
    "import numpy as np\n",
    "\n",
    "# Data manipulation and analysis.\n",
    "import pandas as pd"
   ]
  },
  {
   "cell_type": "code",
   "execution_count": 68,
   "id": "f1c57539-db35-49aa-b1e8-65755a010419",
   "metadata": {},
   "outputs": [],
   "source": [
    "class MoneyAgent(mesa.Agent):\n",
    "    \"\"\"An agent with fixed initial wealth.\"\"\"\n",
    "    \n",
    "    def __init__(self, unique_id, model, wealthProportion):\n",
    "        # initialize wealth proportion variable from param\n",
    "        self.wealthProportion = wealthProportion\n",
    "\n",
    "        # Create the agent's variable and set the initial values.\n",
    "        super().__init__(unique_id, model)\n",
    "\n",
    "        # Initialize wealth with a random value for diversity\n",
    "        self.wealth = self.random.randint(1, 10)\n",
    "\n",
    "        # for plague sim\n",
    "        # start off not infected\n",
    "        self.infected = False\n",
    "        \n",
    "        # Increase immunity in direct proportion to wealth\n",
    "        self.immunity = 1 + (50 * self.wealth)\n",
    "        \n",
    "        # Set contacts as a fixed value for all agents\n",
    "        self.contacts = 5\n",
    "\n",
    "    def step(self):\n",
    "        # Transfer wealth action based on agent's current wealth\n",
    "        if self.wealth > 0:\n",
    "            other_agent = self.random.choice(self.model.schedule.agents)\n",
    "            if other_agent and other_agent != self:\n",
    "                transfer_amount = self.wealthProportion * self.wealth\n",
    "                other_agent.wealth += transfer_amount\n",
    "                self.wealth -= transfer_amount\n",
    "\n",
    "        # Infection action\n",
    "        if not self.infected:\n",
    "            contacts_infected = sum([1 for other in self.model.schedule.agents if other.infected and np.random.rand() < (1.0 / self.contacts)])\n",
    "            infection_chance = contacts_infected / (self.immunity + contacts_infected)  # Adjusted formula\n",
    "\n",
    "            if np.random.rand() < infection_chance:\n",
    "                self.infected = True\n"
   ]
  },
  {
   "cell_type": "code",
   "execution_count": 69,
   "id": "127e5928-0d9a-4820-8600-fb6f3dcdac13",
   "metadata": {},
   "outputs": [],
   "source": [
    "class MoneyModel(mesa.Model):\n",
    "    \"\"\"A model with some number of agents.\"\"\"\n",
    "\n",
    "    def __init__(self, N, wealthProportion):\n",
    "        self.num_agents = N\n",
    "        # Create scheduler and assign it to the model\n",
    "        self.schedule = mesa.time.RandomActivation(self)\n",
    "        \n",
    "        # Create wealth proportion variable for use in MoneyAgent\n",
    "        self.wealthProportion = wealthProportion\n",
    "        \n",
    "        # Create agents\n",
    "        for i in range(self.num_agents):\n",
    "            a = MoneyAgent(i, self, self.wealthProportion)\n",
    "            if np.random.rand() < 0.05:  # 5% of the population is initially infected\n",
    "                a.infected = True\n",
    "            # Add the agent to the scheduler\n",
    "            self.schedule.add(a)\n",
    "\n",
    "    def step(self):\n",
    "        \"\"\"Advance the model by one step.\"\"\"\n",
    "\n",
    "        # The model's step will go here for now this will call the step method of each agent and print the agent's unique_id\n",
    "        self.schedule.step()\n",
    "        "
   ]
  },
  {
   "cell_type": "code",
   "execution_count": 70,
   "id": "2cb7ff91-5e61-4032-9e75-f88dc6b71683",
   "metadata": {},
   "outputs": [],
   "source": [
    "# import matplot for graph\n",
    "# For a jupyter notebook add the following line:\n",
    "%matplotlib inline\n",
    "\n",
    "# The below is needed for both notebooks and scripts\n",
    "import matplotlib.pyplot as plt"
   ]
  },
  {
   "cell_type": "code",
   "execution_count": 71,
   "id": "2c6d00f6-16f2-4140-a4f5-3dd6561c5148",
   "metadata": {},
   "outputs": [
    {
     "name": "stderr",
     "output_type": "stream",
     "text": [
      "C:\\Users\\mcjst\\AppData\\Roaming\\Python\\Python311\\site-packages\\seaborn\\_oldcore.py:1498: FutureWarning: is_categorical_dtype is deprecated and will be removed in a future version. Use isinstance(dtype, CategoricalDtype) instead\n",
      "  if pd.api.types.is_categorical_dtype(vector):\n",
      "C:\\Users\\mcjst\\AppData\\Roaming\\Python\\Python311\\site-packages\\seaborn\\_oldcore.py:1498: FutureWarning: is_categorical_dtype is deprecated and will be removed in a future version. Use isinstance(dtype, CategoricalDtype) instead\n",
      "  if pd.api.types.is_categorical_dtype(vector):\n",
      "C:\\Users\\mcjst\\AppData\\Roaming\\Python\\Python311\\site-packages\\seaborn\\_oldcore.py:1498: FutureWarning: is_categorical_dtype is deprecated and will be removed in a future version. Use isinstance(dtype, CategoricalDtype) instead\n",
      "  if pd.api.types.is_categorical_dtype(vector):\n"
     ]
    },
    {
     "data": {
      "image/png": "[encoded data removed]",
      "text/plain": [
       "<Figure size 1000x600 with 1 Axes>"
      ]
     },
     "metadata": {},
     "output_type": "display_data"
    }
   ],
   "source": [
    "all_wealth = []\n",
    "all_infected = []\n",
    "\n",
    "for j in range(500):\n",
    "    #set the wealth distribution to 30% to create more wealthy\n",
    "    model = MoneyModel(10, 0.30)\n",
    "    for i in range(10):\n",
    "\n",
    "        model.step()\n",
    "\n",
    "    # Store the results\n",
    "    for agent in model.schedule.agents:\n",
    "        all_wealth.append(agent.wealth)\n",
    "        all_infected.append(agent.infected)\n",
    "\n",
    "# Convert lists to DataFrame\n",
    "data = pd.DataFrame({\n",
    "    'Wealth': all_wealth,\n",
    "    'Infected': all_infected\n",
    "})\n",
    "\n",
    "data['Wealth'] = data['Wealth'].astype(int)\n",
    "\n",
    "# Group by 'Wealth' and count the number of infected agents for each wealth level\n",
    "grouped = data.groupby('Wealth').Infected.value_counts().unstack().fillna(0)\n",
    "\n",
    "# Calculate the percentage of infected agents\n",
    "grouped['Percentage Infected'] = (grouped[True] / (grouped[True] + grouped[False])) * 100\n",
    "\n",
    "# Plot\n",
    "plt.figure(figsize=(10, 6))\n",
    "g = sns.barplot(x=grouped.index, y='Percentage Infected', data=grouped, width=0.8)\n",
    "\n",
    "g.set(title=\"Percentage of Infected Agents by Wealth\", xlabel=\"Wealth\", ylabel=\"Percentage Infected\")\n",
    "plt.show()\n"
   ]
  }
 ],
 "metadata": {
  "kernelspec": {
   "display_name": "Python 3 (ipykernel)",
   "language": "python",
   "name": "python3"
  },
  "language_info": {
   "codemirror_mode": {
    "name": "ipython",
    "version": 3
   },
   "file_extension": ".py",
   "mimetype": "text/x-python",
   "name": "python",
   "nbconvert_exporter": "python",
   "pygments_lexer": "ipython3",
   "version": "3.11.5"
  }
 },
 "nbformat": 4,
 "nbformat_minor": 5
}
