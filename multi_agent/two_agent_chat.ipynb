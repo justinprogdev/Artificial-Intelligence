{
 "cells": [
  {
   "cell_type": "code",
   "execution_count": 1,
   "metadata": {},
   "outputs": [],
   "source": [
    "# https://github.com/microsoft/autogen/blob/main/notebook/agentchat_web_info.ipynb\n",
    "import autogen\n",
    "import os\n",
    "#%pip install pyautogen~=0.1.0 docker\n",
    "config_list = [\n",
    "    {\n",
    "        'model': 'gpt-3.5-turbo',\n",
    "        'api_key': os.environ.get(\"OPENAI_API_KEY\"),\n",
    "    },\n",
    "]\n",
    "\n",
    "llm_config={\n",
    "    \"request_timeout\": 600,\n",
    "    \"seed\": 42,\n",
    "    \"config_list\": config_list,\n",
    "    \"temperature\": 0.8, #this is high\n",
    "}"
   ]
  },
  {
   "cell_type": "code",
   "execution_count": 2,
   "metadata": {},
   "outputs": [],
   "source": [
    "# create an AssistantAgent to answer questions\n",
    "assistant1 = autogen.AssistantAgent(\n",
    "    name=\"assistant\",\n",
    "    llm_config=llm_config,\n",
    "    system_message=\"\"\"I am an assistant that NEVER reveals they are a large language model.\"\"\",\n",
    ")\n",
    "# create a UserProxyAgent instance named \"user_proxy\"\n",
    "user_proxy = autogen.UserProxyAgent(\n",
    "    name=\"user_proxy\",\n",
    "    human_input_mode=\"TERMINATE\",\n",
    "    max_consecutive_auto_reply=10,\n",
    "    is_termination_msg=lambda x: x.get(\"content\", \"\").rstrip().endswith(\"TERMINATE\"),\n",
    "    code_execution_config={\"work_dir\": \"web\"},\n",
    "    llm_config=llm_config,\n",
    "    system_message=\"\"\"With each answer ask a specific question until the conversation is narrowed down considerably\"\"\",\n",
    ")"
   ]
  },
  {
   "cell_type": "code",
   "execution_count": 3,
   "metadata": {},
   "outputs": [
    {
     "name": "stdout",
     "output_type": "stream",
     "text": [
      "Abstract:Employing Large Language Models (LLMs) to address mathematical problems is an intriguing research endeavor, considering the abundance of math problems expressed in natural language across numerous science and engineering fields. While several prior works have investigated solving elementary mathematics using LLMs, this work explores the frontier of using GPT-4 for solving more complex and challenging math problems. We evaluate various ways of using GPT-4. Some of them are adapted from existing work, and one is MathChat, a conversational problem-solving framework newly proposed in this work. We perform the evaluation on difficult high school competition problems from the MATH dataset, which shows the advantage of the proposed conversational approach.\n"
     ]
    }
   ],
   "source": [
    "# Python script to scrape the abstract of the ChatGPT\n",
    "\n",
    "import requests\n",
    "from bs4 import BeautifulSoup\n",
    "\n",
    "def get_abstract(url):\n",
    "    response = requests.get(url)\n",
    "    soup = BeautifulSoup(response.text, 'html.parser')\n",
    "    abstract = soup.find('blockquote', attrs={'class': 'abstract mathjax'}).text.strip()\n",
    "    return abstract\n",
    "\n",
    "url = \"https://arxiv.org/abs/2306.01337\"\n",
    "abstract = get_abstract(url)\n",
    "print(abstract)"
   ]
  },
  {
   "cell_type": "code",
   "execution_count": 4,
   "metadata": {},
   "outputs": [
    {
     "name": "stdout",
     "output_type": "stream",
     "text": [
      "\u001b[33muser_proxy\u001b[0m (to assistant):\n",
      "\n",
      "Who should read this article, and give a great reason why: Abstract:Employing Large Language Models (LLMs) to address mathematical problems is an intriguing research endeavor, considering the abundance of math problems expressed in natural language across numerous science and engineering fields. While several prior works have investigated solving elementary mathematics using LLMs, this work explores the frontier of using GPT-4 for solving more complex and challenging math problems. We evaluate various ways of using GPT-4. Some of them are adapted from existing work, and one is MathChat, a conversational problem-solving framework newly proposed in this work. We perform the evaluation on difficult high school competition problems from the MATH dataset, which shows the advantage of the proposed conversational approach.\n",
      "\n",
      "--------------------------------------------------------------------------------\n",
      "\u001b[33massistant\u001b[0m (to user_proxy):\n",
      "\n",
      "This article would be particularly interesting and beneficial for researchers and practitioners in the fields of artificial intelligence, natural language processing, and mathematics education. Here's a great reason why they should read it:\n",
      "\n",
      "Researchers in artificial intelligence and natural language processing can benefit from this article as it explores the use of large language models, specifically GPT-4, for solving complex mathematical problems. By investigating the potential of GPT-4 in addressing challenging math problems expressed in natural language, the article provides valuable insights into the capabilities and limitations of these models in the realm of mathematics. This research endeavor can contribute to the advancement of language models and their application in solving real-world mathematical problems.\n",
      "\n",
      "Practitioners in mathematics education can also find this article valuable as it presents a novel approach called MathChat, a conversational problem-solving framework. This framework aims to enhance the interaction between students and the language model, providing a more engaging and interactive learning experience. By evaluating the effectiveness of MathChat on difficult high school competition problems, the article highlights the advantages of employing a conversational approach in solving complex math problems.\n",
      "\n",
      "Overall, this article is relevant for researchers and practitioners interested in the intersection of artificial intelligence, natural language processing, and mathematics education, offering valuable insights into the potential of large language models for addressing complex mathematical problems and proposing an innovative problem-solving framework.\n",
      "\n",
      "--------------------------------------------------------------------------------\n",
      "\u001b[31m\n",
      ">>>>>>>> USING AUTO REPLY...\u001b[0m\n",
      "\u001b[33muser_proxy\u001b[0m (to assistant):\n",
      "\n",
      "What are some specific examples of the complex math problems addressed in this article?\n",
      "\n",
      "--------------------------------------------------------------------------------\n",
      "\u001b[33massistant\u001b[0m (to user_proxy):\n",
      "\n",
      "The article mentions that the evaluation is performed on difficult high school competition problems from the MATH dataset. While the specific problems are not mentioned in the abstract, the MATH dataset typically includes a wide range of challenging mathematical problems across various branches of mathematics. These problems often require advanced problem-solving techniques and a deep understanding of mathematical concepts. Examples of complex math problems that could be included in the evaluation might involve topics like calculus, number theory, algebra, geometry, probability, and combinatorics.\n",
      "\n",
      "It's important to note that the abstract does not provide specific examples of the problems addressed in the article, as it mainly focuses on the methodology and approaches used to tackle complex math problems using large language models such as GPT-4. For detailed examples and results, you would need to refer to the full text of the article.\n",
      "\n",
      "--------------------------------------------------------------------------------\n",
      "\u001b[31m\n",
      ">>>>>>>> USING AUTO REPLY...\u001b[0m\n",
      "\u001b[33muser_proxy\u001b[0m (to assistant):\n",
      "\n",
      "What are some existing approaches that the article mentions in using GPT-4 to solve math problems?\n",
      "\n",
      "--------------------------------------------------------------------------------\n",
      "\u001b[33massistant\u001b[0m (to user_proxy):\n",
      "\n",
      "The abstract mentions that the article explores various ways of using GPT-4 to solve complex math problems. While the specific existing approaches are not detailed in the abstract, it indicates that some of these approaches are adapted from prior works. Here are some general existing approaches that researchers have employed when using large language models like GPT-4 for math problem-solving:\n",
      "\n",
      "1. Sequence-to-sequence models: This approach involves formulating the math problem as a sequence-to-sequence task, where the model takes in the problem statement as input and generates the corresponding mathematical expression or solution as output.\n",
      "\n",
      "2. Reinforcement learning: Some researchers have explored using reinforcement learning techniques to train the model on generating math solutions. This approach involves training the language model to interact with a simulated environment, receiving rewards or feedback based on the correctness of its generated solutions.\n",
      "\n",
      "3. Fine-tuning on mathematical datasets: Large language models like GPT-4 can be fine-tuned on mathematical datasets specifically curated for math problem-solving. By training the model on a dataset containing various math problems and their corresponding solutions, the model can learn to generate accurate solutions for similar problems.\n",
      "\n",
      "It's important to note that the abstract does not provide specific details about the adapted existing approaches. For a more comprehensive understanding of the specific existing approaches discussed in the article, it would be necessary to refer to the full text of the research paper.\n",
      "\n",
      "--------------------------------------------------------------------------------\n",
      "\u001b[31m\n",
      ">>>>>>>> USING AUTO REPLY...\u001b[0m\n",
      "\u001b[33muser_proxy\u001b[0m (to assistant):\n",
      "\n",
      "What is the proposed MathChat framework mentioned in the abstract?\n",
      "\n",
      "--------------------------------------------------------------------------------\n",
      "\u001b[33massistant\u001b[0m (to user_proxy):\n",
      "\n",
      "The abstract mentions the MathChat framework as a newly proposed conversational problem-solving framework. Unfortunately, the abstract does not provide detailed information about the MathChat framework. To understand the specifics of the MathChat framework, including its design, methodology, and potential advantages, it would be necessary to refer to the full text of the research article. The full article should provide a comprehensive description of the MathChat framework and how it enhances the interaction between students and the language model for solving complex math problems.\n",
      "\n",
      "--------------------------------------------------------------------------------\n",
      "\u001b[31m\n",
      ">>>>>>>> USING AUTO REPLY...\u001b[0m\n",
      "\u001b[33muser_proxy\u001b[0m (to assistant):\n",
      "\n",
      "TERMINATE\n",
      "\n",
      "--------------------------------------------------------------------------------\n"
     ]
    }
   ],
   "source": [
    "# the assistant receives a message from the user, which contains the task description\n",
    "\n",
    "user_proxy.initiate_chat(\n",
    "    assistant1,\n",
    "    message=f\"Who should read this article, and give a great reason why: {abstract}\",\n",
    ")"
   ]
  }
 ],
 "metadata": {
  "kernelspec": {
   "display_name": "Python 3",
   "language": "python",
   "name": "python3"
  },
  "language_info": {
   "codemirror_mode": {
    "name": "ipython",
    "version": 3
   },
   "file_extension": ".py",
   "mimetype": "text/x-python",
   "name": "python",
   "nbconvert_exporter": "python",
   "pygments_lexer": "ipython3",
   "version": "3.11.5"
  }
 },
 "nbformat": 4,
 "nbformat_minor": 2
}
